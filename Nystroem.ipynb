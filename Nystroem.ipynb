{
 "cells": [
  {
   "cell_type": "code",
   "execution_count": null,
   "metadata": {},
   "outputs": [],
   "source": [
    "import numpy as np\n",
    "import time\n",
    "from sklearn.svm import SVC, LinearSVC\n",
    "from sklearn.kernel_approximation import Nystroem\n",
    "from sklearn.pipeline import Pipeline\n",
    "from sklearn.metrics import accuracy_score\n",
    "from sklearn.model_selection import GridSearchCV\n",
    "\n",
    "def run_rbf_svm(X_train, y_train, X_test, y_test, gamma=0.05, C=1.0):\n",
    "    print(\"\\nRunning Standard RBF SVM...\")\n",
    "    start = time.time()\n",
    "    model = SVC(kernel='rbf', gamma=gamma, C=C)\n",
    "    model.fit(X_train, y_train)\n",
    "    train_time = time.time() - start\n",
    "    acc = accuracy_score(y_test, model.predict(X_test))\n",
    "    print(f\"RBF-SVM Accuracy: {acc:.4f} | Time: {train_time:.2f}s\")\n",
    "    return model, acc, train_time\n",
    "\n",
    "def run_nystroem_linear_svm(X_train, y_train, X_test, y_test, n_components=500, gamma=0.05, C=1.0):\n",
    "    print(f\"\\nRunning Nystroem + LinearSVC | n_components={n_components}\")\n",
    "    start = time.time()\n",
    "    pipeline = Pipeline([\n",
    "        ('nystroem', Nystroem(kernel='rbf', gamma=gamma, \n",
    "                              n_components=min(n_components, X_train.shape[0]), random_state=1)),\n",
    "        ('linear_svc', LinearSVC(C=C, max_iter=5000))\n",
    "    ])\n",
    "    pipeline.fit(X_train, y_train)\n",
    "    train_time = time.time() - start\n",
    "    acc = accuracy_score(y_test, pipeline.predict(X_test))\n",
    "    print(f\"Nystroem + LinearSVC Accuracy: {acc:.4f} | Time: {train_time:.2f}s\")\n",
    "    return pipeline, acc, train_time"
   ]
  },
  {
   "cell_type": "markdown",
   "metadata": {},
   "source": [
    "INRIA Pedestrian Dataset (gamma=175)"
   ]
  },
  {
   "cell_type": "code",
   "execution_count": null,
   "metadata": {},
   "outputs": [],
   "source": [
    "import cv2\n",
    "import os\n",
    "import xml.etree.ElementTree as ET\n",
    "from skimage.feature import hog\n",
    "from tqdm import tqdm\n",
    "\n",
    "def parse_annotation(xml_path):\n",
    "    tree = ET.parse(xml_path)\n",
    "    root = tree.getroot()\n",
    "    objects = []\n",
    "    for obj in root.findall('object'):\n",
    "        bbox = obj.find('bndbox')\n",
    "        xmin = int(bbox.find('xmin').text)\n",
    "        ymin = int(bbox.find('ymin').text)\n",
    "        xmax = int(bbox.find('xmax').text)\n",
    "        ymax = int(bbox.find('ymax').text)\n",
    "        objects.append((xmin, ymin, xmax, ymax))\n",
    "    return objects\n",
    "\n",
    "def extract_hog_features(img, resize_size=(64,128)):\n",
    "    img = cv2.resize(img, resize_size)\n",
    "    features = hog(img, pixels_per_cell=(8,8), cells_per_block=(2,2), feature_vector=True)\n",
    "    return features\n",
    "\n",
    "def prepare_inria_dataset(root_dir, resize_size=(64,128)):\n",
    "    X, y = [], []\n",
    "    ann_dir = os.path.join(root_dir, 'Annotations')\n",
    "    img_dir = os.path.join(root_dir, 'JPEGImages')\n",
    "\n",
    "    for xml_file in tqdm(os.listdir(ann_dir)):\n",
    "        if not xml_file.endswith('.xml'):\n",
    "            continue\n",
    "        objects = parse_annotation(os.path.join(ann_dir, xml_file))\n",
    "        img_file = os.path.join(img_dir, xml_file.replace('.xml', '.png'))\n",
    "        image = cv2.imread(img_file, cv2.IMREAD_GRAYSCALE)\n",
    "        if image is None:\n",
    "            continue\n",
    "        for (xmin, ymin, xmax, ymax) in objects:\n",
    "            person_crop = image[ymin:ymax, xmin:xmax]\n",
    "            if person_crop.size == 0:\n",
    "                continue\n",
    "            feature = extract_hog_features(person_crop, resize_size)\n",
    "            X.append(feature)\n",
    "            y.append(1)\n",
    "\n",
    "    for img_file in tqdm(os.listdir(img_dir)):\n",
    "        if not img_file.endswith('.png'):\n",
    "            continue\n",
    "        image = cv2.imread(os.path.join(img_dir, img_file), cv2.IMREAD_GRAYSCALE)\n",
    "        if image is None:\n",
    "            continue\n",
    "        h, w = image.shape\n",
    "        for _ in range(5):\n",
    "            x = np.random.randint(0, w - resize_size[0])\n",
    "            y_pos = np.random.randint(0, h - resize_size[1])\n",
    "            neg_crop = image[y_pos:y_pos+resize_size[1], x:x+resize_size[0]]\n",
    "            feature = extract_hog_features(neg_crop, resize_size)\n",
    "            X.append(feature)\n",
    "            y.append(0)\n",
    "\n",
    "    return np.array(X), np.array(y)"
   ]
  },
  {
   "cell_type": "code",
   "execution_count": null,
   "metadata": {},
   "outputs": [],
   "source": [
    "X_train, y_train = prepare_inria_dataset('./INRIAPerson/Train')\n",
    "X_test, y_test = prepare_inria_dataset('./INRIAPerson/Test')\n",
    "print(X_train.shape, X_test.shape)  # (num_samples, feature_dim)\n",
    "print(y_train.shape, y_test.shape)  # (num_samples,)"
   ]
  },
  {
   "cell_type": "code",
   "execution_count": null,
   "metadata": {},
   "outputs": [],
   "source": [
    "# grid search\n",
    "param_grid_rbf = {\n",
    "    'C': [0.1, 1, 10, 100],\n",
    "    'gamma': np.logspace(-4, 3, 8), \n",
    "}\n",
    "\n",
    "svc = SVC(kernel='rbf')\n",
    "\n",
    "grid_search = GridSearchCV(svc, param_grid_rbf, cv=3, scoring='accuracy', n_jobs=-1, verbose=2)\n",
    "grid_search.fit(X_train, y_train)\n",
    "\n",
    "print(\"Best rbf params:\", grid_search.best_params_)\n",
    "print(\"Best rbf accuracy:\", grid_search.best_score_)"
   ]
  },
  {
   "cell_type": "code",
   "execution_count": null,
   "metadata": {},
   "outputs": [],
   "source": [
    "# Best rbf params: {'C': 10, 'gamma': 0.01}\n",
    "# Best rbf accuracy: 0.9668219344308691\n",
    "\n",
    "rbf_model, rbf_acc, rbf_time = run_rbf_svm(X_train, y_train, X_test, y_test, gamma=0.01)\n",
    "\n",
    "# Best Nystroem gamma: {'nystroem__gamma': 0.001, 'svm__C': 10}\n",
    "# Best accuracy: 0.9621815088563362\n",
    "nys_model, nys_acc, nys_time = run_nystroem_linear_svm(X_train, y_train, X_test, y_test, gamma=0.01)"
   ]
  },
  {
   "cell_type": "markdown",
   "metadata": {},
   "source": [
    "Caltech-101 (gamma=250)"
   ]
  },
  {
   "cell_type": "code",
   "execution_count": null,
   "metadata": {},
   "outputs": [],
   "source": [
    "import random\n",
    "from sklearn.preprocessing import LabelEncoder\n",
    "\n",
    "def load_caltech101_balanced(root_dir, resize=(128, 128), per_class_train=30, per_class_test=30):\n",
    "    X_train, y_train, X_test, y_test = [], [], [], []\n",
    "    classes = [cls for cls in os.listdir(root_dir) if not cls.startswith('.') and os.path.isdir(os.path.join(root_dir, cls))]\n",
    "    \n",
    "    for cls in tqdm(classes):\n",
    "        cls_path = os.path.join(root_dir, cls)\n",
    "        images = [img for img in os.listdir(cls_path) if img.endswith(('.jpg', '.png', '.jpeg'))]\n",
    "        if len(images) < per_class_train + per_class_test:\n",
    "            continue\n",
    "\n",
    "        random.shuffle(images)\n",
    "        train_imgs = images[:per_class_train]\n",
    "        test_imgs = images[per_class_train:per_class_train + per_class_test]\n",
    "\n",
    "        for img_file in train_imgs:\n",
    "            img_path = os.path.join(cls_path, img_file)\n",
    "            img = cv2.imread(img_path, cv2.IMREAD_GRAYSCALE)\n",
    "            if img is None:\n",
    "                continue\n",
    "            img = cv2.resize(img, resize)\n",
    "            X_train.append(img.flatten())\n",
    "            y_train.append(cls)\n",
    "\n",
    "        for img_file in test_imgs:\n",
    "            img_path = os.path.join(cls_path, img_file)\n",
    "            img = cv2.imread(img_path, cv2.IMREAD_GRAYSCALE)\n",
    "            if img is None:\n",
    "                continue\n",
    "            img = cv2.resize(img, resize)\n",
    "            X_test.append(img.flatten())\n",
    "            y_test.append(cls)\n",
    "\n",
    "    le = LabelEncoder()\n",
    "    y_train = le.fit_transform(y_train)\n",
    "    y_test = le.transform(y_test)\n",
    "\n",
    "    return np.array(X_train), np.array(y_train), np.array(X_test), np.array(y_test), le.classes_"
   ]
  },
  {
   "cell_type": "markdown",
   "metadata": {},
   "source": [
    "15 samples per class"
   ]
  },
  {
   "cell_type": "code",
   "execution_count": null,
   "metadata": {},
   "outputs": [],
   "source": [
    "X_train, y_train, X_test, y_test, class_names = load_caltech101_balanced('./caltech-101/', per_class_train=15, per_class_test=15)"
   ]
  },
  {
   "cell_type": "code",
   "execution_count": null,
   "metadata": {},
   "outputs": [],
   "source": [
    "# grid search\n",
    "svc = SVC(kernel='rbf')\n",
    "\n",
    "grid_search = GridSearchCV(svc, param_grid_rbf, cv=3, scoring='accuracy', n_jobs=-1, verbose=2)\n",
    "grid_search.fit(X_train, y_train)\n",
    "\n",
    "print(\"Best rbf params:\", grid_search.best_params_)\n",
    "print(\"Best rbf accuracy:\", grid_search.best_score_)"
   ]
  },
  {
   "cell_type": "code",
   "execution_count": null,
   "metadata": {},
   "outputs": [],
   "source": [
    "# X_train, X_test, y_train, y_test = train_test_split(X_cal, y_cal, test_size=0.3, random_state=42)\n",
    "\n",
    "# 跑标准RBF\n",
    "rbf_model, rbf_acc, rbf_time = run_rbf_svm(X_train, y_train, X_test, y_test, gamma=0.0001)\n",
    "\n",
    "# 跑 Nystroem + LinearSVC\n",
    "nys_model, nys_acc, nys_time = run_nystroem_linear_svm(X_train, y_train, X_test, y_test, gamma=0.0001)"
   ]
  },
  {
   "cell_type": "markdown",
   "metadata": {},
   "source": [
    "30 samples per class"
   ]
  },
  {
   "cell_type": "code",
   "execution_count": null,
   "metadata": {},
   "outputs": [],
   "source": [
    "X_train, y_train, X_test, y_test, class_names = load_caltech101_balanced('./caltech-101/', per_class_train=30, per_class_test=30)"
   ]
  },
  {
   "cell_type": "code",
   "execution_count": null,
   "metadata": {},
   "outputs": [],
   "source": [
    "# grid search\n",
    "svc = SVC(kernel='rbf')\n",
    "\n",
    "grid_search = GridSearchCV(svc, param_grid_rbf, cv=3, scoring='accuracy', n_jobs=-1, verbose=2)\n",
    "grid_search.fit(X_train, y_train)\n",
    "\n",
    "print(\"Best rbf params:\", grid_search.best_params_)\n",
    "print(\"Best rbf accuracy:\", grid_search.best_score_)"
   ]
  },
  {
   "cell_type": "code",
   "execution_count": null,
   "metadata": {},
   "outputs": [],
   "source": [
    "# X_train, X_test, y_train, y_test = train_test_split(X_cal, y_cal, test_size=0.3, random_state=42)\n",
    "\n",
    "# 跑标准RBF\n",
    "rbf_model, rbf_acc, rbf_time = run_rbf_svm(X_train, y_train, X_test, y_test, gamma=250)\n",
    "\n",
    "# 跑 Nystroem + LinearSVC\n",
    "nys_model, nys_acc, nys_time = run_nystroem_linear_svm(X_train, y_train, X_test, y_test, gamma=250)"
   ]
  },
  {
   "cell_type": "markdown",
   "metadata": {},
   "source": [
    "UIUC Cars (gamma=2.0)"
   ]
  },
  {
   "cell_type": "code",
   "execution_count": null,
   "metadata": {},
   "outputs": [],
   "source": [
    "from skimage.feature import hog\n",
    "\n",
    "def load_uiuc_car_data(folder, resize=(64,64)):\n",
    "    X, y = [], []\n",
    "    for file in tqdm(os.listdir(folder)):\n",
    "        if file.endswith('.pgm'):\n",
    "            img = cv2.imread(os.path.join(folder, file), cv2.IMREAD_GRAYSCALE)\n",
    "            if img is None:\n",
    "                continue\n",
    "            img = cv2.resize(img, resize)\n",
    "            feature = hog(img, pixels_per_cell=(8,8), cells_per_block=(2,2), feature_vector=True)\n",
    "            X.append(feature)\n",
    "            if 'pos' in file:\n",
    "                y.append(1)\n",
    "            elif 'neg' in file:\n",
    "                y.append(0)\n",
    "    return np.array(X), np.array(y)\n",
    "\n",
    "X_uiuc, y_uiuc = load_uiuc_car_data('./CarData/TrainImages/')\n",
    "print(X_uiuc.shape, X_uiuc.shape)"
   ]
  },
  {
   "cell_type": "code",
   "execution_count": null,
   "metadata": {},
   "outputs": [],
   "source": [
    "from sklearn.model_selection import train_test_split\n",
    "X_train, X_test, y_train, y_test = train_test_split(X_uiuc, y_uiuc, test_size=0.3, random_state=42)\n",
    "\n",
    "# grid search\n",
    "svc = SVC(kernel='rbf')\n",
    "\n",
    "grid_search = GridSearchCV(svc, param_grid_rbf, cv=3, scoring='accuracy', n_jobs=-1, verbose=2)\n",
    "grid_search.fit(X_train, y_train)\n",
    "\n",
    "print(\"Best rbf params:\", grid_search.best_params_)\n",
    "print(\"Best rbf accuracy:\", grid_search.best_score_)"
   ]
  },
  {
   "cell_type": "code",
   "execution_count": null,
   "metadata": {},
   "outputs": [],
   "source": [
    "rbf_model, rbf_acc, rbf_time = run_rbf_svm(X_train, y_train, X_test, y_test, gamma=0.01)\n",
    "\n",
    "n_components = min(300, X_train.shape[0])\n",
    "nys_model, nys_acc, nys_time = run_nystroem_linear_svm(X_train, y_train, X_test, y_test, n_components=n_components, gamma=0.01)"
   ]
  },
  {
   "cell_type": "code",
   "execution_count": null,
   "metadata": {},
   "outputs": [],
   "source": []
  }
 ],
 "metadata": {
  "kernelspec": {
   "display_name": "base",
   "language": "python",
   "name": "python3"
  },
  "language_info": {
   "codemirror_mode": {
    "name": "ipython",
    "version": 3
   },
   "file_extension": ".py",
   "mimetype": "text/x-python",
   "name": "python",
   "nbconvert_exporter": "python",
   "pygments_lexer": "ipython3",
   "version": "3.9.12"
  }
 },
 "nbformat": 4,
 "nbformat_minor": 2
}
